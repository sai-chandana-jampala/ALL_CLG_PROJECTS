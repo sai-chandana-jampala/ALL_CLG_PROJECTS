{
  "nbformat": 4,
  "nbformat_minor": 0,
  "metadata": {
    "colab": {
      "provenance": []
    },
    "kernelspec": {
      "name": "python3",
      "display_name": "Python 3"
    },
    "language_info": {
      "name": "python"
    }
  },
  "cells": [
    {
      "cell_type": "markdown",
      "source": [
        "#<h1 align=\"center\"><font color='BROWN'>BDA_PROJECT_PRESENTAION</font></h1>\n",
        "\n",
        "\n",
        "\n",
        "\n",
        "\n",
        "\n",
        "\n"
      ],
      "metadata": {
        "id": "1AONUctUL8NC"
      }
    },
    {
      "cell_type": "markdown",
      "source": [
        "#BATCHB_GROUP2\n"
      ],
      "metadata": {
        "id": "gj60LoIwLSd3"
      }
    },
    {
      "cell_type": "markdown",
      "source": [
        "#GROUP_MEMEBRS:"
      ],
      "metadata": {
        "id": "Jpt8V0cfLZi-"
      }
    },
    {
      "cell_type": "markdown",
      "source": [
        "#1.JAIDEV -CB.EN.U4AIE21117\n",
        "#2.SAI CHANDANA.J -CB.EN.U4AIE21118\n",
        "#3.PRANISH KUMAR . M - CB.EN.U4AIE21137\n",
        "#4.CHARISHMA CHOWDARY . T - CB.EN.U4AIE21169"
      ],
      "metadata": {
        "id": "zG-NP528Lg6H"
      }
    },
    {
      "cell_type": "markdown",
      "source": [
        "#DATA ANALYSIS USING LINEAR REGRESSION"
      ],
      "metadata": {
        "id": "SadvVF9bNRK6"
      }
    },
    {
      "cell_type": "markdown",
      "source": [
        "importing the necessary librariers"
      ],
      "metadata": {
        "id": "PHGkzWLfNXQC"
      }
    },
    {
      "cell_type": "code",
      "source": [
        "from pyspark.sql import SparkSession\n",
        "from pyspark.ml.linalg import DenseVector\n",
        "from pyspark.ml.feature import VectorAssembler\n",
        "from pyspark.sql.functions import col\n",
        "import matplotlib.pyplot as plt"
      ],
      "metadata": {
        "id": "1aGHo0bRHuJF"
      },
      "execution_count": 41,
      "outputs": []
    },
    {
      "cell_type": "markdown",
      "source": [
        "Initialize a SparkSession"
      ],
      "metadata": {
        "id": "hhl71kBjNdS5"
      }
    },
    {
      "cell_type": "code",
      "source": [
        "spark = SparkSession.builder.getOrCreate()"
      ],
      "metadata": {
        "id": "Js2IfyIsIDsB"
      },
      "execution_count": 42,
      "outputs": []
    },
    {
      "cell_type": "markdown",
      "source": [
        "Load the data into a DataFrame"
      ],
      "metadata": {
        "id": "pd606JEoNie4"
      }
    },
    {
      "cell_type": "code",
      "source": [
        "data = spark.read.format(\"csv\").option(\"header\", True).load(\"/content/africaeco.csv\")\n"
      ],
      "metadata": {
        "id": "2Lc0IWZTIGHh"
      },
      "execution_count": 43,
      "outputs": []
    },
    {
      "cell_type": "markdown",
      "source": [
        "printing the number of rows & cols in data frame"
      ],
      "metadata": {
        "id": "F4B1pdY9RUFb"
      }
    },
    {
      "cell_type": "code",
      "source": [
        "\n",
        "row_count = data.count()\n",
        "column_count = len(data.columns)\n",
        "\n",
        "print(\"Number of rows:\", row_count)\n",
        "print(\"Number of columns:\", column_count)\n"
      ],
      "metadata": {
        "colab": {
          "base_uri": "https://localhost:8080/"
        },
        "id": "RWlpyHVpPVt2",
        "outputId": "8ad40bed-c466-4a1c-c34c-7abb8e0ad28e"
      },
      "execution_count": 44,
      "outputs": [
        {
          "output_type": "stream",
          "name": "stdout",
          "text": [
            "Number of rows: 2862\n",
            "Number of columns: 12\n"
          ]
        }
      ]
    },
    {
      "cell_type": "markdown",
      "source": [
        "printing the column names"
      ],
      "metadata": {
        "id": "NRKLsIQHRcQ3"
      }
    },
    {
      "cell_type": "code",
      "source": [
        "\n",
        "columns = data.columns\n",
        "\n",
        "print(\"Columns:\", columns)\n"
      ],
      "metadata": {
        "colab": {
          "base_uri": "https://localhost:8080/"
        },
        "id": "WB9npQyuP4mr",
        "outputId": "dfa65ac9-f108-444f-c7fa-8cd7109030e1"
      },
      "execution_count": 45,
      "outputs": [
        {
          "output_type": "stream",
          "name": "stdout",
          "text": [
            "Columns: ['Country', 'Year', 'GDP_rise', 'Gini', 'Agg_dem', 'Agg_sup', 'Avg CPI', 'Eco_Equ', 'Per_cap', 'mar_cost', 'inf_rate', 'int_rate']\n"
          ]
        }
      ]
    },
    {
      "cell_type": "markdown",
      "source": [
        "showing the data"
      ],
      "metadata": {
        "id": "LvsK-i-0Rhb4"
      }
    },
    {
      "cell_type": "code",
      "source": [
        "\n",
        "data.show(20)\n"
      ],
      "metadata": {
        "colab": {
          "base_uri": "https://localhost:8080/"
        },
        "id": "9tX0JPpFQFDj",
        "outputId": "05d315d2-7d5d-43db-a75e-0e8e52fb6567"
      },
      "execution_count": 48,
      "outputs": [
        {
          "output_type": "stream",
          "name": "stdout",
          "text": [
            "+-----------+----+--------+-----+-------+-------+-------+-------+-------+--------+--------+--------+\n",
            "|    Country|Year|GDP_rise| Gini|Agg_dem|Agg_sup|Avg CPI|Eco_Equ|Per_cap|mar_cost|inf_rate|int_rate|\n",
            "+-----------+----+--------+-----+-------+-------+-------+-------+-------+--------+--------+--------+\n",
            "|    Nigeria|1950|       0|    0|   1.15|   8.55|   34.8| 258.66|      0|       0|       0|       0|\n",
            "|   Ethiopia|1950|     2.1|15.61|   1.15|   8.55|   34.8| 258.66|    2.1|   15.61|     2.1|   15.61|\n",
            "|      Egypt|1950|   0.468| 3.48|   1.15|   8.55|   34.8| 258.66|  0.468|    3.48|    0.66|    4.91|\n",
            "|    DRcongo|1950| 0.15625| 1.16|   1.15|   8.55|   34.8| 258.66|0.15625|    1.16| 0.15625|    1.16|\n",
            "|   Tanzania|1950|    1.65|12.26|   1.15|   8.55|   34.8| 258.66|   1.65|   12.26|    1.65|   12.26|\n",
            "|SouthAfrica|1950|       1| 7.43|   1.15|   8.55|   34.8| 258.66|      1|    7.43|    1.25|    9.29|\n",
            "|      Kenya|1950|     1.4|10.41|   1.15|   8.55|   34.8| 258.66|    1.4|   10.41|     1.4|   10.41|\n",
            "|     Uganda|1950|    1.25| 9.29|   1.15|   8.55|   34.8| 258.66|   1.25|    9.29|    1.25|    9.29|\n",
            "|    Algeria|1950|    1.25| 9.29|   1.15|   8.55|   34.8| 258.66|   1.25|    9.29|     1.4|   10.41|\n",
            "|      Sudan|1950|       0|    0|   1.15|   8.55|   34.8| 258.66|      0|       0|       0|       0|\n",
            "|    Morocco|1950|       0|    0|   1.15|   8.55|   34.8| 258.66|      0|       0|       0|       0|\n",
            "|     Angola|1950|    1.25| 9.29|   1.15|   8.55|   34.8| 258.66|   1.25|    9.29|    1.25|    9.29|\n",
            "| Mozambique|1950|    1.25| 9.29|   1.15|   8.55|   34.8| 258.66|   1.25|    9.29|    1.25|    9.29|\n",
            "|      Ghana|1950|    1.15| 8.55|   1.15|   8.55|   34.8| 258.66|   1.15|    8.55|    1.15|    8.55|\n",
            "| Madagascar|1950|       0|    0|   1.15|   8.55|   34.8| 258.66|      0|       0|       0|       0|\n",
            "|    Cameron|1950|    1.15| 8.55|   1.15|   8.55|   34.8| 258.66|   1.15|    8.55|    1.15|    8.55|\n",
            "| cotetrichy|1950|       0|    0|   1.15|   8.55|   34.8| 258.66|      0|       0|       0|       0|\n",
            "|      Niger|1950|       0|    0|   1.15|   8.55|   34.8| 258.66|      0|       0|       0|       0|\n",
            "|BurkinaFaso|1950|    0.65| 4.83|   1.15|   8.55|   34.8| 258.66|   0.65|    4.83|    0.75|    5.57|\n",
            "|       mali|1950|       0|    0|   1.15|   8.55|   34.8| 258.66|      0|       0|       0|       0|\n",
            "+-----------+----+--------+-----+-------+-------+-------+-------+-------+--------+--------+--------+\n",
            "only showing top 20 rows\n",
            "\n"
          ]
        }
      ]
    },
    {
      "cell_type": "markdown",
      "source": [
        "data frame dimenions"
      ],
      "metadata": {
        "id": "vSZq-mpuRmAn"
      }
    },
    {
      "cell_type": "code",
      "source": [
        "\n",
        "row_count = data.count()\n",
        "column_count = len(data.columns)\n",
        "\n",
        "print(\"Dimensions: {} rows by {} columns\".format(row_count, column_count))\n"
      ],
      "metadata": {
        "colab": {
          "base_uri": "https://localhost:8080/"
        },
        "id": "m-8_luFTQRdM",
        "outputId": "887378f1-0dac-4bfa-f2ff-4f2652e4e271"
      },
      "execution_count": 49,
      "outputs": [
        {
          "output_type": "stream",
          "name": "stdout",
          "text": [
            "Dimensions: 2862 rows by 12 columns\n"
          ]
        }
      ]
    },
    {
      "cell_type": "markdown",
      "source": [
        "Remove rows with null values"
      ],
      "metadata": {
        "id": "28UnUuX5Noqg"
      }
    },
    {
      "cell_type": "code",
      "source": [
        "data = data.na.drop()"
      ],
      "metadata": {
        "id": "gkcA7_8aILJs"
      },
      "execution_count": 50,
      "outputs": []
    },
    {
      "cell_type": "markdown",
      "source": [
        "Convert the target column to float"
      ],
      "metadata": {
        "id": "tTlPUGqENsdy"
      }
    },
    {
      "cell_type": "code",
      "source": [
        "target_column = \"inf_rate\"\n",
        "data = data.withColumn(target_column, data[target_column].cast(\"float\"))"
      ],
      "metadata": {
        "id": "657HPWjTIeQ0"
      },
      "execution_count": 51,
      "outputs": []
    },
    {
      "cell_type": "markdown",
      "source": [
        "\n",
        "\n",
        "1.   Convert columns to DoubleType\n",
        "2.    Convert other feature columns as well\n",
        "\n"
      ],
      "metadata": {
        "id": "6rIu4-llNwUf"
      }
    },
    {
      "cell_type": "code",
      "source": [
        "data = data.withColumn(\"GDP_rise\", col(\"GDP_rise\").cast(\"double\"))\n",
        "data = data.withColumn(\"Gini\", col(\"Gini\").cast(\"double\"))"
      ],
      "metadata": {
        "id": "ac7dCjV0Igop"
      },
      "execution_count": 52,
      "outputs": []
    },
    {
      "cell_type": "markdown",
      "source": [
        "Continue with the VectorAssembler and linear regression code"
      ],
      "metadata": {
        "id": "9A-yANhGN_BW"
      }
    },
    {
      "cell_type": "code",
      "source": [
        "assembler = VectorAssembler(inputCols=[\"GDP_rise\", \"Gini\"], outputCol=\"features\")\n",
        "data = assembler.transform(data)\n"
      ],
      "metadata": {
        "id": "BGkJBHL2IjTu"
      },
      "execution_count": 53,
      "outputs": []
    },
    {
      "cell_type": "markdown",
      "source": [
        "Select the features and target column automatically"
      ],
      "metadata": {
        "id": "DA7hb-F3OCFg"
      }
    },
    {
      "cell_type": "code",
      "source": [
        "data = data.select(col(\"features\"), col(target_column))\n"
      ],
      "metadata": {
        "id": "XG0LthUfIpVH"
      },
      "execution_count": 54,
      "outputs": []
    },
    {
      "cell_type": "markdown",
      "source": [
        "Split the data into training and test sets"
      ],
      "metadata": {
        "id": "e_K66B0wOFIb"
      }
    },
    {
      "cell_type": "code",
      "source": [
        "train_data, test_data = data.randomSplit([0.7, 0.3])"
      ],
      "metadata": {
        "id": "itc7_rAgIuPo"
      },
      "execution_count": 55,
      "outputs": []
    },
    {
      "cell_type": "markdown",
      "source": [
        "Convert the DataFrame to an RDD for further processing"
      ],
      "metadata": {
        "id": "kTc8jZjDOJtT"
      }
    },
    {
      "cell_type": "code",
      "source": [
        "train_rdd = train_data.rdd.map(lambda x: (DenseVector(x.features.toArray()), x[target_column]))"
      ],
      "metadata": {
        "id": "0YyBopbuIwvO"
      },
      "execution_count": 56,
      "outputs": []
    },
    {
      "cell_type": "markdown",
      "source": [
        "computing the gradient decent"
      ],
      "metadata": {
        "id": "WOmD-D_POLi6"
      }
    },
    {
      "cell_type": "code",
      "source": [
        "def compute_gradient(features, target, weights):\n",
        "\n",
        "    # Convert features to DenseVector\n",
        "    features = DenseVector(features)\n",
        "\n",
        "    # Compute the dot product of features and weights\n",
        "    predictions = weights.dot(features)\n",
        "\n",
        "    # Compute the error (predicted - actual)\n",
        "    error = predictions - target\n",
        "\n",
        "    # Compute the gradient using the formula: 2 * features * error\n",
        "    gradient = 2 * features * error\n",
        "\n",
        "    return gradient"
      ],
      "metadata": {
        "id": "qxZXr1HRI3Rk"
      },
      "execution_count": 57,
      "outputs": []
    },
    {
      "cell_type": "markdown",
      "source": [
        "importing the linear regression"
      ],
      "metadata": {
        "id": "I7DKnlR6OQm0"
      }
    },
    {
      "cell_type": "code",
      "source": [
        "from pyspark.ml.regression import LinearRegression"
      ],
      "metadata": {
        "id": "6B_Vh6VhI6TC"
      },
      "execution_count": 58,
      "outputs": []
    },
    {
      "cell_type": "markdown",
      "source": [
        "Train the linear regression model"
      ],
      "metadata": {
        "id": "IpAqZNDoOWbP"
      }
    },
    {
      "cell_type": "code",
      "source": [
        "lr = LinearRegression(featuresCol=\"features\", labelCol=target_column)\n",
        "model = lr.fit(train_data)"
      ],
      "metadata": {
        "id": "73qCbL-9I-vx"
      },
      "execution_count": 59,
      "outputs": []
    },
    {
      "cell_type": "markdown",
      "source": [
        "Make predictions on the test data"
      ],
      "metadata": {
        "id": "FU-lXjKtOZ-z"
      }
    },
    {
      "cell_type": "code",
      "source": [
        "predictions = model.transform(test_data)"
      ],
      "metadata": {
        "id": "F_a7xvlkJB68"
      },
      "execution_count": 60,
      "outputs": []
    },
    {
      "cell_type": "markdown",
      "source": [
        "Evaluate the model's performance"
      ],
      "metadata": {
        "id": "v2XfFizAOcp4"
      }
    },
    {
      "cell_type": "code",
      "source": [
        "from pyspark.ml.evaluation import RegressionEvaluator\n"
      ],
      "metadata": {
        "id": "VhfzI07jJGC8"
      },
      "execution_count": 61,
      "outputs": []
    },
    {
      "cell_type": "code",
      "source": [
        "evaluator = RegressionEvaluator(labelCol=target_column, metricName=\"rmse\")\n",
        "rmse = evaluator.evaluate(predictions)"
      ],
      "metadata": {
        "id": "lCuQPmq7JJ1T"
      },
      "execution_count": 62,
      "outputs": []
    },
    {
      "cell_type": "markdown",
      "source": [
        "#Print the root mean squared error"
      ],
      "metadata": {
        "id": "ppclQwG7OhDD"
      }
    },
    {
      "cell_type": "code",
      "source": [
        "print(\"Root Mean Squared Error (RMSE):\", rmse)\n"
      ],
      "metadata": {
        "colab": {
          "base_uri": "https://localhost:8080/"
        },
        "id": "zRtlpBNpJPRS",
        "outputId": "74c0ce15-3ddf-492f-d3f8-6c1ec166943c"
      },
      "execution_count": 63,
      "outputs": [
        {
          "output_type": "stream",
          "name": "stdout",
          "text": [
            "Root Mean Squared Error (RMSE): 0.5295606002146657\n"
          ]
        }
      ]
    },
    {
      "cell_type": "markdown",
      "source": [
        "#Print the model coefficients"
      ],
      "metadata": {
        "id": "sqlALYZtOkJ2"
      }
    },
    {
      "cell_type": "code",
      "source": [
        "coefficients = model.coefficients\n",
        "print(\"Coefficients:\", coefficients)\n"
      ],
      "metadata": {
        "colab": {
          "base_uri": "https://localhost:8080/"
        },
        "id": "q2oJnvUsJQZv",
        "outputId": "71b12b06-bcb9-45dc-c070-b262726672cc"
      },
      "execution_count": 64,
      "outputs": [
        {
          "output_type": "stream",
          "name": "stdout",
          "text": [
            "Coefficients: [1.012904661847599,-0.032792660725784364]\n"
          ]
        }
      ]
    },
    {
      "cell_type": "markdown",
      "source": [
        "#Calculate the mean absolute error"
      ],
      "metadata": {
        "id": "9tN8Nl3xOoeU"
      }
    },
    {
      "cell_type": "code",
      "source": [
        "evaluator_mae = RegressionEvaluator(labelCol=target_column, metricName=\"mae\")\n",
        "mae = evaluator_mae.evaluate(predictions)\n",
        "\n",
        "# Print the mean absolute error\n",
        "print(\"Mean Absolute Error (MAE):\", mae)"
      ],
      "metadata": {
        "colab": {
          "base_uri": "https://localhost:8080/"
        },
        "id": "eeA65t-HKyXY",
        "outputId": "260c6a22-ea07-4597-ce2f-1af100f9c242"
      },
      "execution_count": 65,
      "outputs": [
        {
          "output_type": "stream",
          "name": "stdout",
          "text": [
            "Mean Absolute Error (MAE): 0.21800482992306291\n"
          ]
        }
      ]
    },
    {
      "cell_type": "markdown",
      "source": [
        "#Scatter Plot of Actual vs. Predicted Values"
      ],
      "metadata": {
        "id": "QqR4b3tQOru1"
      }
    },
    {
      "cell_type": "code",
      "source": [
        "\n",
        "actual = predictions.select(target_column).rdd.flatMap(lambda x: x).collect()\n",
        "predicted = predictions.select(\"prediction\").rdd.flatMap(lambda x: x).collect()\n",
        "\n",
        "plt.scatter(actual, predicted)\n",
        "plt.xlabel(\"Actual\")\n",
        "plt.ylabel(\"Predicted\")\n",
        "plt.title(\"Actual vs. Predicted Values\")\n",
        "plt.show()\n"
      ],
      "metadata": {
        "colab": {
          "base_uri": "https://localhost:8080/",
          "height": 472
        },
        "id": "NYpH94oWJXZN",
        "outputId": "06a19b85-1283-441d-9ba0-843718fbe9cd"
      },
      "execution_count": 66,
      "outputs": [
        {
          "output_type": "display_data",
          "data": {
            "text/plain": [
              "<Figure size 640x480 with 1 Axes>"
            ],
            "image/png": "[encoded data removed]"
          },
          "metadata": {}
        }
      ]
    },
    {
      "cell_type": "markdown",
      "source": [
        "#Residual Plot"
      ],
      "metadata": {
        "id": "Yrvsv-jSOxxV"
      }
    },
    {
      "cell_type": "code",
      "source": [
        "\n",
        "residuals = predictions.rdd.map(lambda x: x[target_column] - x[\"prediction\"]).collect()\n",
        "\n",
        "plt.scatter(predicted, residuals)\n",
        "plt.xlabel(\"Predicted\")\n",
        "plt.ylabel(\"Residuals\")\n",
        "plt.title(\"Residual Plot\")\n",
        "plt.axhline(y=0, color='r', linestyle='--')\n",
        "plt.show()\n"
      ],
      "metadata": {
        "colab": {
          "base_uri": "https://localhost:8080/",
          "height": 472
        },
        "id": "UcLBKGuMJYiP",
        "outputId": "143a03de-e787-49fe-aab9-147a6d0ecc87"
      },
      "execution_count": 67,
      "outputs": [
        {
          "output_type": "display_data",
          "data": {
            "text/plain": [
              "<Figure size 640x480 with 1 Axes>"
            ],
            "image/png": "[encoded data removed]"
          },
          "metadata": {}
        }
      ]
    },
    {
      "cell_type": "markdown",
      "source": [
        "#Feature Importance Plot"
      ],
      "metadata": {
        "id": "WF5s3tuVOuaY"
      }
    },
    {
      "cell_type": "code",
      "source": [
        "\n",
        "feature_names = [\"GDP_rise\", \"Gini\"]\n",
        "importance_values = model.coefficients\n",
        "\n",
        "plt.bar(feature_names, importance_values)\n",
        "plt.xlabel(\"Feature\")\n",
        "plt.ylabel(\"Importance\")\n",
        "plt.title(\"Feature Importance Plot\")\n",
        "plt.show()"
      ],
      "metadata": {
        "colab": {
          "base_uri": "https://localhost:8080/",
          "height": 472
        },
        "id": "Jot-iapFJc7i",
        "outputId": "f53d415f-3f81-4b9e-9804-7d42dae0e4aa"
      },
      "execution_count": 68,
      "outputs": [
        {
          "output_type": "display_data",
          "data": {
            "text/plain": [
              "<Figure size 640x480 with 1 Axes>"
            ],
            "image/png": "[encoded data removed]"
          },
          "metadata": {}
        }
      ]
    },
    {
      "cell_type": "markdown",
      "source": [
        "\n",
        "#<h1 align=\"center\"><font color='BROWN'>THANK YOU </font></h1>"
      ],
      "metadata": {
        "id": "6sSVCiSsLAI3"
      }
    }
  ]
}